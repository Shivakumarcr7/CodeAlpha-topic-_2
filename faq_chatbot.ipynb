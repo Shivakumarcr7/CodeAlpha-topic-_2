{
  "nbformat": 4,
  "nbformat_minor": 0,
  "metadata": {
    "colab": {
      "provenance": []
    },
    "kernelspec": {
      "name": "python3",
      "display_name": "Python 3"
    },
    "language_info": {
      "name": "python"
    }
  },
  "cells": [
    {
      "cell_type": "markdown",
      "source": [
        "\n",
        "# **Install nltk and Scikit learn**\n",
        "\n"
      ],
      "metadata": {
        "id": "877fsqE221bx"
      }
    },
    {
      "cell_type": "code",
      "source": [
        "!pip install nltk scikit-learn\n",
        "\n",
        "\n"
      ],
      "metadata": {
        "colab": {
          "base_uri": "https://localhost:8080/"
        },
        "id": "o5GgBJOEv07M",
        "outputId": "de5a46b5-e2c7-4c09-880b-82504c5cbfa0"
      },
      "execution_count": 2,
      "outputs": [
        {
          "output_type": "stream",
          "name": "stdout",
          "text": [
            "Requirement already satisfied: nltk in /usr/local/lib/python3.12/dist-packages (3.9.1)\n",
            "Requirement already satisfied: scikit-learn in /usr/local/lib/python3.12/dist-packages (1.6.1)\n",
            "Requirement already satisfied: click in /usr/local/lib/python3.12/dist-packages (from nltk) (8.2.1)\n",
            "Requirement already satisfied: joblib in /usr/local/lib/python3.12/dist-packages (from nltk) (1.5.1)\n",
            "Requirement already satisfied: regex>=2021.8.3 in /usr/local/lib/python3.12/dist-packages (from nltk) (2024.11.6)\n",
            "Requirement already satisfied: tqdm in /usr/local/lib/python3.12/dist-packages (from nltk) (4.67.1)\n",
            "Requirement already satisfied: numpy>=1.19.5 in /usr/local/lib/python3.12/dist-packages (from scikit-learn) (2.0.2)\n",
            "Requirement already satisfied: scipy>=1.6.0 in /usr/local/lib/python3.12/dist-packages (from scikit-learn) (1.16.1)\n",
            "Requirement already satisfied: threadpoolctl>=3.1.0 in /usr/local/lib/python3.12/dist-packages (from scikit-learn) (3.6.0)\n"
          ]
        }
      ]
    },
    {
      "cell_type": "markdown",
      "source": [
        "# **The program With some faqs collected**"
      ],
      "metadata": {
        "id": "39B5aK_X3Ej7"
      }
    },
    {
      "cell_type": "markdown",
      "source": [
        "# **TOPIC:AI**"
      ],
      "metadata": {
        "id": "VCkjIEgs3Rr8"
      }
    },
    {
      "cell_type": "code",
      "execution_count": null,
      "metadata": {
        "colab": {
          "base_uri": "https://localhost:8080/"
        },
        "id": "CrrdAOBPvz1y",
        "outputId": "7496d3a1-4a04-4a78-8ea3-b6975379c8c6"
      },
      "outputs": [
        {
          "output_type": "stream",
          "name": "stderr",
          "text": [
            "[nltk_data] Downloading package punkt to /root/nltk_data...\n",
            "[nltk_data]   Package punkt is already up-to-date!\n",
            "[nltk_data] Downloading package stopwords to /root/nltk_data...\n",
            "[nltk_data]   Package stopwords is already up-to-date!\n",
            "[nltk_data] Downloading package punkt_tab to /root/nltk_data...\n",
            "[nltk_data]   Package punkt_tab is already up-to-date!\n"
          ]
        },
        {
          "output_type": "stream",
          "name": "stdout",
          "text": [
            "\u001b[36mChatbot: Hello! Ask me something (type 'exit' to quit)\u001b[0m\n"
          ]
        }
      ],
      "source": [
        "import nltk\n",
        "import string\n",
        "import numpy as np\n",
        "from sklearn.feature_extraction.text import TfidfVectorizer\n",
        "from sklearn.metrics.pairwise import cosine_similarity\n",
        "from nltk.corpus import stopwords\n",
        "\n",
        "nltk.download('punkt')\n",
        "nltk.download('stopwords')\n",
        "nltk.download('punkt_tab')\n",
        "\n",
        "\n",
        "faqs = {\n",
        "    \"hey\": \"hey how may I help you\",\n",
        "    \"What is Artificial Intelligence?\": \"Artificial Intelligence (AI) is the simulation of human intelligence in machines that are programmed to think, reason, and learn like humans.\",\n",
        "    \"What are the types of AI?\": \"AI is categorized into three types: Narrow AI (task-specific), General AI (human-level intelligence), and Super AI (beyond human intelligence).\",\n",
        "    \"What is Machine Learning?\": \"Machine Learning (ML) is a subset of AI that allows systems to automatically learn and improve from experience without being explicitly programmed.\",\n",
        "    \"What are some applications of AI?\": \"AI is used in healthcare, autonomous vehicles, chatbots, recommendation systems, fraud detection, and more.\",\n",
        "    \"What is Deep Learning?\": \"Deep Learning is a subset of Machine Learning that uses neural networks with many layers to analyze data and make decisions.\",\n",
        "    \"What programming languages are commonly used in AI?\": \"Python, R, Java, and C++ are the most widely used programming languages in AI development.\",\n",
        "    \"What is Natural Language Processing?\": \"Natural Language Processing (NLP) is a branch of AI that helps machines understand, interpret, and respond to human language.\",\n",
        "    \"What is Computer Vision?\": \"Computer Vision is a field of AI that enables machines to interpret and process visual information from the world, like images and videos.\",\n",
        "    \"What is Reinforcement Learning?\": \"Reinforcement Learning is a type of ML where agents learn by interacting with an environment and receiving rewards or penalties.\",\n",
        "    \"What are popular AI frameworks?\": \"Some popular AI frameworks include TensorFlow, PyTorch, Keras, Scikit-learn, and OpenCV.\",\n",
        "    \"What is supervised learning?\": \"Supervised learning is a type of ML where the model is trained on labeled data to make predictions.\",\n",
        "    \"What is unsupervised learning?\": \"Unsupervised learning is an ML technique where the model finds hidden patterns in unlabeled data.\",\n",
        "    \"What is the future of AI?\": \"The future of AI includes advancements in General AI, improved healthcare applications, ethical AI systems, and widespread integration in daily life.\"\n",
        "}\n",
        "\n",
        "\n",
        "stop_words = set(stopwords.words(\"english\"))\n",
        "\n",
        "def preprocess(text):\n",
        "    text = text.lower().translate(str.maketrans('', '', string.punctuation))\n",
        "    tokens = nltk.word_tokenize(text)\n",
        "    tokens = [word for word in tokens if word not in stop_words]\n",
        "    return \" \".join(tokens)\n",
        "\n",
        "questions = list(faqs.keys())\n",
        "answers = list(faqs.values())\n",
        "processed_questions = [preprocess(q) for q in questions]\n",
        "\n",
        "vectorizer = TfidfVectorizer()\n",
        "tfidf_matrix = vectorizer.fit_transform(processed_questions)\n",
        "\n",
        "def chatbot_response(user_input):\n",
        "    user_input_processed = preprocess(user_input)\n",
        "    user_vec = vectorizer.transform([user_input_processed])\n",
        "    similarity = cosine_similarity(user_vec, tfidf_matrix)\n",
        "    idx = np.argmax(similarity)\n",
        "    return answers[idx]\n",
        "\n",
        "\n",
        "print(\"\\033[36mChatbot: Hello! Ask me something (type 'exit' to quit)\\033[0m\")\n",
        "\n",
        "while True:\n",
        "    query = input(\"\\033[32mYou: \\033[0m\")   # Green \"You:\"\n",
        "    if query.lower() == \"exit\":\n",
        "        print(\"\\n\\033[36mChatbot: Goodbye!\\033[0m\\n\")\n",
        "        break\n",
        "    response = chatbot_response(query)\n",
        "    print(\"\\n\\033[36mChatbot:\\033[0m\", response, \"\\n\")\n"
      ]
    }
  ]
}
